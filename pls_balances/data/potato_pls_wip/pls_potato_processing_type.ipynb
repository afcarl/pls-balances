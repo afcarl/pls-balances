{
 "cells": [
  {
   "cell_type": "markdown",
   "metadata": {},
   "source": [
    "## chernobyl_balances_radiation.ipynb (qiime2)\n",
    "\n",
    "In this study, there were 137 vole fecal samples collected from Chernobyl and Ukraine. Each of these fecal samples had a radiation measurement. From this [manuscript](), it was observed that radiation (loc_rad_geiger_gamma_usv_per_h) plays a primary role in community composition (e.g., the ratio of Firmicutes/Bacteroidetes). Here, we will show that radiation by itself can actually predict the microbial abundances, using balance trees."
   ]
  },
  {
   "cell_type": "markdown",
   "metadata": {},
   "source": [
    "Before beginning this analysis, make sure that the following is installed\n",
    "\n",
    "```\n",
    "conda create -n qiime2-2017.7 --file https://data.qiime2.org/distro/core/qiime2-2017.7-conda-osx-64.txt\n",
    "\n",
    "source activate qiime2-2017.7\n",
    "\n",
    "conda uninstall gneiss\n",
    "\n",
    "pip install git+https://github.com/mortonjt/pls-balances\n",
    "\n",
    "pip install git+https://github.com/mortonjt/gneiss.git@proportion_plots\n",
    "```"
   ]
  },
  {
   "cell_type": "code",
   "execution_count": 35,
   "metadata": {
    "collapsed": true
   },
   "outputs": [],
   "source": [
    "import pandas as pd\n",
    "from statsmodels.sandbox.stats.multicomp import multipletests\n",
    "from skbio import TreeNode\n",
    "import seaborn as sns\n",
    "import matplotlib.pyplot as plt\n",
    "from gneiss.plot import balance_boxplot, balance_barplots, proportion_plot\n",
    "from pls_balances.src.balances import balance_classify, round_balance\n",
    "import qiime2\n",
    "import numpy as np\n",
    "import matplotlib\n",
    "%matplotlib inline\n",
    "np.random.seed(0)\n",
    "#font = {'family' : 'norma\n",
    "#        'size'   : 16}\n",
    "\n",
    "#matplotlib.rc('font', **font)"
   ]
  },
  {
   "cell_type": "code",
   "execution_count": 36,
   "metadata": {
    "collapsed": true
   },
   "outputs": [],
   "source": [
    "table_file = '../potato/data/openms_noise5k/ft-w-gnpsid-norm-hdf5.biom.qza'\n",
    "metadata_file = '../potato/data/potato_untargeted_metabolomics_metadata.txt'\n",
    "\n",
    "# taxa_file = 'voles_137_sortmerna_taxonomy.txt'\n",
    "# taxa = pd.read_table(taxa_file, index_col=0)\n",
    "\n",
    "table = qiime2.Artifact.load(table_file).view(pd.DataFrame)\n",
    "metadata = pd.read_table(metadata_file, index_col=0)"
   ]
  },
  {
   "cell_type": "markdown",
   "metadata": {},
   "source": [
    "# Classification"
   ]
  },
  {
   "cell_type": "code",
   "execution_count": 37,
   "metadata": {
    "collapsed": true
   },
   "outputs": [],
   "source": [
    "from gneiss.util import match\n",
    "table, metadata = match(table, metadata)"
   ]
  },
  {
   "cell_type": "markdown",
   "metadata": {
    "collapsed": true
   },
   "source": [
    "Set them colors"
   ]
  },
  {
   "cell_type": "code",
   "execution_count": 38,
   "metadata": {
    "collapsed": true
   },
   "outputs": [],
   "source": [
    "palette = sns.color_palette()"
   ]
  },
  {
   "cell_type": "code",
   "execution_count": 39,
   "metadata": {
    "collapsed": true
   },
   "outputs": [],
   "source": [
    "def rgb2hex(r, g, b):\n",
    "    return '#%02x%02x%02x' % (int(r*255), int(g*255), int(b*255))"
   ]
  },
  {
   "cell_type": "code",
   "execution_count": 40,
   "metadata": {
    "collapsed": true
   },
   "outputs": [],
   "source": [
    "ch_color = '#%02x%02x%02x' % (227, 26, 28)\n",
    "cl_kl_color = '#%02x%02x%02x' % (166, 206, 227)\n",
    "\n",
    "kl_color = '#%02x%02x%02x' % (51, 160, 44)\n",
    "cl_color = '#%02x%02x%02x' % (31, 120, 180)"
   ]
  },
  {
   "cell_type": "code",
   "execution_count": 41,
   "metadata": {},
   "outputs": [
    {
     "data": {
      "text/html": [
       "<div>\n",
       "<style>\n",
       "    .dataframe thead tr:only-child th {\n",
       "        text-align: right;\n",
       "    }\n",
       "\n",
       "    .dataframe thead th {\n",
       "        text-align: left;\n",
       "    }\n",
       "\n",
       "    .dataframe tbody tr th {\n",
       "        vertical-align: top;\n",
       "    }\n",
       "</style>\n",
       "<table border=\"1\" class=\"dataframe\">\n",
       "  <thead>\n",
       "    <tr style=\"text-align: right;\">\n",
       "      <th></th>\n",
       "      <th>BarcodeSequence</th>\n",
       "      <th>Description</th>\n",
       "      <th>LinkerPrimerSequence</th>\n",
       "      <th>cultivar_type</th>\n",
       "      <th>cultivar_color</th>\n",
       "      <th>processing_type</th>\n",
       "      <th>network_group</th>\n",
       "      <th>order</th>\n",
       "    </tr>\n",
       "    <tr>\n",
       "      <th>#SampleID</th>\n",
       "      <th></th>\n",
       "      <th></th>\n",
       "      <th></th>\n",
       "      <th></th>\n",
       "      <th></th>\n",
       "      <th></th>\n",
       "      <th></th>\n",
       "      <th></th>\n",
       "    </tr>\n",
       "  </thead>\n",
       "  <tbody>\n",
       "    <tr>\n",
       "      <th>RWA3</th>\n",
       "      <td>Not applicable</td>\n",
       "      <td>Plant Tissue Metabolome</td>\n",
       "      <td>Not applicable</td>\n",
       "      <td>Atlantic</td>\n",
       "      <td>White</td>\n",
       "      <td>Raw</td>\n",
       "      <td>group1</td>\n",
       "      <td>1</td>\n",
       "    </tr>\n",
       "    <tr>\n",
       "      <th>FWA2</th>\n",
       "      <td>Not applicable</td>\n",
       "      <td>Plant Tissue Metabolome</td>\n",
       "      <td>Not applicable</td>\n",
       "      <td>Atlantic</td>\n",
       "      <td>White</td>\n",
       "      <td>French Fries</td>\n",
       "      <td>group1</td>\n",
       "      <td>5</td>\n",
       "    </tr>\n",
       "    <tr>\n",
       "      <th>FRM3</th>\n",
       "      <td>Not applicable</td>\n",
       "      <td>Plant Tissue Metabolome</td>\n",
       "      <td>Not applicable</td>\n",
       "      <td>Mountain Rose</td>\n",
       "      <td>Red</td>\n",
       "      <td>French Fries</td>\n",
       "      <td>group2</td>\n",
       "      <td>5</td>\n",
       "    </tr>\n",
       "    <tr>\n",
       "      <th>BRR3</th>\n",
       "      <td>Not applicable</td>\n",
       "      <td>Plant Tissue Metabolome</td>\n",
       "      <td>Not applicable</td>\n",
       "      <td>All Red</td>\n",
       "      <td>Red</td>\n",
       "      <td>Baked</td>\n",
       "      <td>group2</td>\n",
       "      <td>4</td>\n",
       "    </tr>\n",
       "    <tr>\n",
       "      <th>RWB2</th>\n",
       "      <td>Not applicable</td>\n",
       "      <td>Plant Tissue Metabolome</td>\n",
       "      <td>Not applicable</td>\n",
       "      <td>Russet Burbank</td>\n",
       "      <td>White</td>\n",
       "      <td>Raw</td>\n",
       "      <td>group1</td>\n",
       "      <td>1</td>\n",
       "    </tr>\n",
       "  </tbody>\n",
       "</table>\n",
       "</div>"
      ],
      "text/plain": [
       "          BarcodeSequence              Description LinkerPrimerSequence  \\\n",
       "#SampleID                                                                 \n",
       "RWA3       Not applicable  Plant Tissue Metabolome       Not applicable   \n",
       "FWA2       Not applicable  Plant Tissue Metabolome       Not applicable   \n",
       "FRM3       Not applicable  Plant Tissue Metabolome       Not applicable   \n",
       "BRR3       Not applicable  Plant Tissue Metabolome       Not applicable   \n",
       "RWB2       Not applicable  Plant Tissue Metabolome       Not applicable   \n",
       "\n",
       "            cultivar_type cultivar_color processing_type network_group  order  \n",
       "#SampleID                                                                      \n",
       "RWA3             Atlantic          White             Raw        group1      1  \n",
       "FWA2             Atlantic          White    French Fries        group1      5  \n",
       "FRM3        Mountain Rose            Red    French Fries        group2      5  \n",
       "BRR3              All Red            Red           Baked        group2      4  \n",
       "RWB2       Russet Burbank          White             Raw        group1      1  "
      ]
     },
     "execution_count": 41,
     "metadata": {},
     "output_type": "execute_result"
    }
   ],
   "source": [
    "metadata.head(5)"
   ]
  },
  {
   "cell_type": "markdown",
   "metadata": {},
   "source": [
    "# comapring potato colors (purple vs. red+white)"
   ]
  },
  {
   "cell_type": "code",
   "execution_count": 42,
   "metadata": {},
   "outputs": [
    {
     "data": {
      "text/plain": [
       "<matplotlib.legend.Legend at 0x1273cae80>"
      ]
     },
     "execution_count": 42,
     "metadata": {},
     "output_type": "execute_result"
    },
    {
     "data": {
      "image/png": "[encoded data removed]",
      "text/plain": [
       "<matplotlib.figure.Figure at 0x127430160>"
      ]
     },
     "metadata": {},
     "output_type": "display_data"
    }
   ],
   "source": [
    "from sklearn.cross_decomposition import PLSRegression\n",
    "from skbio.stats.composition import clr, centralize\n",
    "\n",
    "fig, ax = plt.subplots(figsize=(5, 5))\n",
    "\n",
    "\n",
    "c1 = (metadata.cultivar_color == 'Purple').values\n",
    "c2 = np.logical_or((metadata.cultivar_color == 'White').values,\n",
    "                   (metadata.cultivar_color == 'Red').values)\n",
    "Y = np.vstack((c1, c2)).astype(np.int).T\n",
    "rad_pls = PLSRegression(n_components=2)\n",
    "ctable = pd.DataFrame(clr(centralize(table+1)), \n",
    "                      index=table.index, columns=table.columns)\n",
    "rad_pls.fit(X=ctable.values, Y=Y)\n",
    "\n",
    "ax.scatter(rad_pls.x_scores_[c1, 0], rad_pls.x_scores_[c1, 1], \n",
    "           color=ch_color, label='Purple', edgecolor='k', marker='o', alpha=0.5)\n",
    "ax.scatter(rad_pls.x_scores_[c2, 0], rad_pls.x_scores_[c2, 1], \n",
    "           color=cl_kl_color, label='White+Red', edgecolor='k', marker='o', alpha=0.5)\n",
    "ax.set_xlabel('PLS1')\n",
    "ax.set_ylabel('PLS2')\n",
    "ax.legend(loc=3)"
   ]
  },
  {
   "cell_type": "code",
   "execution_count": 43,
   "metadata": {},
   "outputs": [
    {
     "data": {
      "text/plain": [
       "[<matplotlib.lines.Line2D at 0x127a60da0>]"
      ]
     },
     "execution_count": 43,
     "metadata": {},
     "output_type": "execute_result"
    },
    {
     "data": {
      "image/png": "[encoded data removed]",
      "text/plain": [
       "<matplotlib.figure.Figure at 0x1274eeda0>"
      ]
     },
     "metadata": {},
     "output_type": "display_data"
    }
   ],
   "source": [
    "from sklearn.mixture import GaussianMixture\n",
    "from scipy.stats import norm\n",
    "import numpy as np\n",
    "\n",
    "fig, ax = plt.subplots(figsize=(5, 5))\n",
    "rad_pls = PLSRegression(n_components=1)\n",
    "rad_pls.fit(X=ctable.values, Y=Y)\n",
    "\n",
    "rad_spectrum = pd.DataFrame(rad_pls.x_weights_, index=ctable.columns, columns=['PLS1'])\n",
    "\n",
    "rad_mixture = GaussianMixture(n_components=3, \n",
    "                              means_init=np.array([[-0.05], [0], [0.05]]), \n",
    "                              random_state=0)\n",
    "rad_mixture.fit(X=rad_spectrum.values)\n",
    "\n",
    "rad_m = np.ravel(rad_mixture.means_)\n",
    "rad_s = np.ravel(np.sqrt(rad_mixture.covariances_)) \n",
    "rad_w = np.ravel(rad_mixture.weights_)\n",
    "\n",
    "x = np.linspace(-0.1, 0.1, 100)\n",
    "sns.distplot(rad_spectrum, norm_hist=True, kde=False, ax=ax)\n",
    "ax.plot(x, rad_w[0]*norm.pdf(x, rad_m[0], rad_s[0]), ch_color)\n",
    "ax.plot(x, rad_w[1]*norm.pdf(x, rad_m[1], rad_s[1]), '-k')\n",
    "ax.plot(x, rad_w[2]*norm.pdf(x, rad_m[2], rad_s[2]), cl_kl_color)"
   ]
  },
  {
   "cell_type": "code",
   "execution_count": 44,
   "metadata": {
    "collapsed": true
   },
   "outputs": [],
   "source": [
    "l, r = round_balance(rad_spectrum, means_init=np.array([[-0.05], [0], [0.05]]))\n",
    "\n",
    "denom = rad_spectrum.loc[rad_spectrum.PLS1 < l]\n",
    "num = rad_spectrum.loc[rad_spectrum.PLS1 > r]\n",
    "\n",
    "r, s = num.shape[0], denom.shape[0] \n",
    "rad_balance = (np.log(table.loc[:, num.index] + 1).mean(axis=1) - \n",
    "               np.log(table.loc[:, denom.index] + 1).mean(axis=1)) * np.sqrt(r*s / (r+s))"
   ]
  },
  {
   "cell_type": "code",
   "execution_count": 45,
   "metadata": {},
   "outputs": [
    {
     "data": {
      "text/plain": [
       "(234, 1)"
      ]
     },
     "execution_count": 45,
     "metadata": {},
     "output_type": "execute_result"
    }
   ],
   "source": [
    "num.shape"
   ]
  },
  {
   "cell_type": "code",
   "execution_count": 46,
   "metadata": {},
   "outputs": [
    {
     "data": {
      "text/plain": [
       "(112, 1)"
      ]
     },
     "execution_count": 46,
     "metadata": {},
     "output_type": "execute_result"
    }
   ],
   "source": [
    "denom.shape"
   ]
  },
  {
   "cell_type": "code",
   "execution_count": 47,
   "metadata": {},
   "outputs": [
    {
     "data": {
      "text/html": [
       "<div>\n",
       "<style>\n",
       "    .dataframe thead tr:only-child th {\n",
       "        text-align: right;\n",
       "    }\n",
       "\n",
       "    .dataframe thead th {\n",
       "        text-align: left;\n",
       "    }\n",
       "\n",
       "    .dataframe tbody tr th {\n",
       "        vertical-align: top;\n",
       "    }\n",
       "</style>\n",
       "<table border=\"1\" class=\"dataframe\">\n",
       "  <thead>\n",
       "    <tr style=\"text-align: right;\">\n",
       "      <th></th>\n",
       "      <th>PLS1</th>\n",
       "    </tr>\n",
       "  </thead>\n",
       "  <tbody>\n",
       "    <tr>\n",
       "      <th>951.2860_296.8252</th>\n",
       "      <td>0.103875</td>\n",
       "    </tr>\n",
       "    <tr>\n",
       "      <th>949.2672_284.7604</th>\n",
       "      <td>0.100513</td>\n",
       "    </tr>\n",
       "    <tr>\n",
       "      <th>965.2932_307.6715</th>\n",
       "      <td>0.100163</td>\n",
       "    </tr>\n",
       "    <tr>\n",
       "      <th>641.1832_296.5703</th>\n",
       "      <td>0.097341</td>\n",
       "    </tr>\n",
       "    <tr>\n",
       "      <th>968.3182_299.8724</th>\n",
       "      <td>0.097067</td>\n",
       "    </tr>\n",
       "    <tr>\n",
       "      <th>Anthocyanin [M+]|Coumaroylated Anthocyanidin Gloucoside|3-(Coum-Rha-Glc)-5-Glc-Petunidin_r26</th>\n",
       "      <td>0.094325</td>\n",
       "    </tr>\n",
       "    <tr>\n",
       "      <th>1408.9012_293.6783</th>\n",
       "      <td>0.093677</td>\n",
       "    </tr>\n",
       "    <tr>\n",
       "      <th>963.3027_303.5607</th>\n",
       "      <td>0.092212</td>\n",
       "    </tr>\n",
       "    <tr>\n",
       "      <th>1408.3994_293.4014</th>\n",
       "      <td>0.091580</td>\n",
       "    </tr>\n",
       "    <tr>\n",
       "      <th>919.2590_290.2628</th>\n",
       "      <td>0.089602</td>\n",
       "    </tr>\n",
       "    <tr>\n",
       "      <th>947.2812_303.7350</th>\n",
       "      <td>0.089415</td>\n",
       "    </tr>\n",
       "    <tr>\n",
       "      <th>937.2674_286.4563</th>\n",
       "      <td>0.089407</td>\n",
       "    </tr>\n",
       "    <tr>\n",
       "      <th>771.2267_310.3628</th>\n",
       "      <td>0.079965</td>\n",
       "    </tr>\n",
       "    <tr>\n",
       "      <th>934.2690_292.8834</th>\n",
       "      <td>0.076907</td>\n",
       "    </tr>\n",
       "    <tr>\n",
       "      <th>967.2680_294.6245</th>\n",
       "      <td>0.074884</td>\n",
       "    </tr>\n",
       "    <tr>\n",
       "      <th>1409.4023_293.6117</th>\n",
       "      <td>0.071651</td>\n",
       "    </tr>\n",
       "    <tr>\n",
       "      <th>147.0455_275.1844</th>\n",
       "      <td>0.071492</td>\n",
       "    </tr>\n",
       "    <tr>\n",
       "      <th>977.2912_305.8519</th>\n",
       "      <td>0.071081</td>\n",
       "    </tr>\n",
       "    <tr>\n",
       "      <th>805.2376_250.3631</th>\n",
       "      <td>0.070069</td>\n",
       "    </tr>\n",
       "    <tr>\n",
       "      <th>952.3161_306.1513</th>\n",
       "      <td>0.068084</td>\n",
       "    </tr>\n",
       "    <tr>\n",
       "      <th>731.1837_246.8434</th>\n",
       "      <td>0.067002</td>\n",
       "    </tr>\n",
       "    <tr>\n",
       "      <th>1072.2950_262.3927</th>\n",
       "      <td>0.066020</td>\n",
       "    </tr>\n",
       "    <tr>\n",
       "      <th>982.3071_302.5520</th>\n",
       "      <td>0.065743</td>\n",
       "    </tr>\n",
       "    <tr>\n",
       "      <th>1095.3276_272.4040</th>\n",
       "      <td>0.065732</td>\n",
       "    </tr>\n",
       "    <tr>\n",
       "      <th>1258.3590_271.4734</th>\n",
       "      <td>0.065459</td>\n",
       "    </tr>\n",
       "    <tr>\n",
       "      <th>1426.8908_303.5203</th>\n",
       "      <td>0.064774</td>\n",
       "    </tr>\n",
       "    <tr>\n",
       "      <th>787.1913_312.4021</th>\n",
       "      <td>0.064483</td>\n",
       "    </tr>\n",
       "    <tr>\n",
       "      <th>1259.3624_268.9780</th>\n",
       "      <td>0.063364</td>\n",
       "    </tr>\n",
       "    <tr>\n",
       "      <th>395.1432_273.7681</th>\n",
       "      <td>0.063323</td>\n",
       "    </tr>\n",
       "    <tr>\n",
       "      <th>966.3082_308.0718</th>\n",
       "      <td>0.059442</td>\n",
       "    </tr>\n",
       "    <tr>\n",
       "      <th>...</th>\n",
       "      <td>...</td>\n",
       "    </tr>\n",
       "    <tr>\n",
       "      <th>251.1396_206.1979</th>\n",
       "      <td>0.030761</td>\n",
       "    </tr>\n",
       "    <tr>\n",
       "      <th>1105.4740_367.7057</th>\n",
       "      <td>0.030669</td>\n",
       "    </tr>\n",
       "    <tr>\n",
       "      <th>147.0653_344.2449</th>\n",
       "      <td>0.030642</td>\n",
       "    </tr>\n",
       "    <tr>\n",
       "      <th>265.1546_245.3792</th>\n",
       "      <td>0.030170</td>\n",
       "    </tr>\n",
       "    <tr>\n",
       "      <th>372.1446_200.0163</th>\n",
       "      <td>0.030052</td>\n",
       "    </tr>\n",
       "    <tr>\n",
       "      <th>275.1178_347.9473</th>\n",
       "      <td>0.029983</td>\n",
       "    </tr>\n",
       "    <tr>\n",
       "      <th>625.3006_301.1951</th>\n",
       "      <td>0.029849</td>\n",
       "    </tr>\n",
       "    <tr>\n",
       "      <th>164.0422_218.2643</th>\n",
       "      <td>0.029830</td>\n",
       "    </tr>\n",
       "    <tr>\n",
       "      <th>400.2379_277.1929</th>\n",
       "      <td>0.029763</td>\n",
       "    </tr>\n",
       "    <tr>\n",
       "      <th>298.1336_197.0980</th>\n",
       "      <td>0.029739</td>\n",
       "    </tr>\n",
       "    <tr>\n",
       "      <th>1491.3062_391.9446</th>\n",
       "      <td>0.029455</td>\n",
       "    </tr>\n",
       "    <tr>\n",
       "      <th>443.2695_342.8619</th>\n",
       "      <td>0.029328</td>\n",
       "    </tr>\n",
       "    <tr>\n",
       "      <th>293.1231_346.8011</th>\n",
       "      <td>0.029282</td>\n",
       "    </tr>\n",
       "    <tr>\n",
       "      <th>499.0671_ 65.5475</th>\n",
       "      <td>0.029132</td>\n",
       "    </tr>\n",
       "    <tr>\n",
       "      <th>543.6316_382.6504</th>\n",
       "      <td>0.029007</td>\n",
       "    </tr>\n",
       "    <tr>\n",
       "      <th>672.6628_323.0810</th>\n",
       "      <td>0.028845</td>\n",
       "    </tr>\n",
       "    <tr>\n",
       "      <th>1066.8989_369.5671</th>\n",
       "      <td>0.028439</td>\n",
       "    </tr>\n",
       "    <tr>\n",
       "      <th>1425.9376_339.4334</th>\n",
       "      <td>0.028066</td>\n",
       "    </tr>\n",
       "    <tr>\n",
       "      <th>803.0893_ 20.5757</th>\n",
       "      <td>0.028065</td>\n",
       "    </tr>\n",
       "    <tr>\n",
       "      <th>279.1350_135.0820</th>\n",
       "      <td>0.028058</td>\n",
       "    </tr>\n",
       "    <tr>\n",
       "      <th>203.1334_144.7902</th>\n",
       "      <td>0.027636</td>\n",
       "    </tr>\n",
       "    <tr>\n",
       "      <th>476.1211_103.6769</th>\n",
       "      <td>0.027609</td>\n",
       "    </tr>\n",
       "    <tr>\n",
       "      <th>967.3647_323.8624</th>\n",
       "      <td>0.027581</td>\n",
       "    </tr>\n",
       "    <tr>\n",
       "      <th>130.0604_ 26.0847</th>\n",
       "      <td>0.027545</td>\n",
       "    </tr>\n",
       "    <tr>\n",
       "      <th>496.2172_168.0198</th>\n",
       "      <td>0.027525</td>\n",
       "    </tr>\n",
       "    <tr>\n",
       "      <th>266.6647_237.5411</th>\n",
       "      <td>0.027417</td>\n",
       "    </tr>\n",
       "    <tr>\n",
       "      <th>356.1038_232.4590</th>\n",
       "      <td>0.027411</td>\n",
       "    </tr>\n",
       "    <tr>\n",
       "      <th>920.3790_328.8289</th>\n",
       "      <td>0.027253</td>\n",
       "    </tr>\n",
       "    <tr>\n",
       "      <th>289.6898_265.8238</th>\n",
       "      <td>0.027252</td>\n",
       "    </tr>\n",
       "    <tr>\n",
       "      <th>166.0973_821.0212</th>\n",
       "      <td>0.026968</td>\n",
       "    </tr>\n",
       "  </tbody>\n",
       "</table>\n",
       "<p>234 rows × 1 columns</p>\n",
       "</div>"
      ],
      "text/plain": [
       "                                                        PLS1\n",
       "951.2860_296.8252                                   0.103875\n",
       "949.2672_284.7604                                   0.100513\n",
       "965.2932_307.6715                                   0.100163\n",
       "641.1832_296.5703                                   0.097341\n",
       "968.3182_299.8724                                   0.097067\n",
       "Anthocyanin [M+]|Coumaroylated Anthocyanidin Gl...  0.094325\n",
       "1408.9012_293.6783                                  0.093677\n",
       "963.3027_303.5607                                   0.092212\n",
       "1408.3994_293.4014                                  0.091580\n",
       "919.2590_290.2628                                   0.089602\n",
       "947.2812_303.7350                                   0.089415\n",
       "937.2674_286.4563                                   0.089407\n",
       "771.2267_310.3628                                   0.079965\n",
       "934.2690_292.8834                                   0.076907\n",
       "967.2680_294.6245                                   0.074884\n",
       "1409.4023_293.6117                                  0.071651\n",
       "147.0455_275.1844                                   0.071492\n",
       "977.2912_305.8519                                   0.071081\n",
       "805.2376_250.3631                                   0.070069\n",
       "952.3161_306.1513                                   0.068084\n",
       "731.1837_246.8434                                   0.067002\n",
       "1072.2950_262.3927                                  0.066020\n",
       "982.3071_302.5520                                   0.065743\n",
       "1095.3276_272.4040                                  0.065732\n",
       "1258.3590_271.4734                                  0.065459\n",
       "1426.8908_303.5203                                  0.064774\n",
       "787.1913_312.4021                                   0.064483\n",
       "1259.3624_268.9780                                  0.063364\n",
       "395.1432_273.7681                                   0.063323\n",
       "966.3082_308.0718                                   0.059442\n",
       "...                                                      ...\n",
       "251.1396_206.1979                                   0.030761\n",
       "1105.4740_367.7057                                  0.030669\n",
       "147.0653_344.2449                                   0.030642\n",
       "265.1546_245.3792                                   0.030170\n",
       "372.1446_200.0163                                   0.030052\n",
       "275.1178_347.9473                                   0.029983\n",
       "625.3006_301.1951                                   0.029849\n",
       "164.0422_218.2643                                   0.029830\n",
       "400.2379_277.1929                                   0.029763\n",
       "298.1336_197.0980                                   0.029739\n",
       "1491.3062_391.9446                                  0.029455\n",
       "443.2695_342.8619                                   0.029328\n",
       "293.1231_346.8011                                   0.029282\n",
       "499.0671_ 65.5475                                   0.029132\n",
       "543.6316_382.6504                                   0.029007\n",
       "672.6628_323.0810                                   0.028845\n",
       "1066.8989_369.5671                                  0.028439\n",
       "1425.9376_339.4334                                  0.028066\n",
       "803.0893_ 20.5757                                   0.028065\n",
       "279.1350_135.0820                                   0.028058\n",
       "203.1334_144.7902                                   0.027636\n",
       "476.1211_103.6769                                   0.027609\n",
       "967.3647_323.8624                                   0.027581\n",
       "130.0604_ 26.0847                                   0.027545\n",
       "496.2172_168.0198                                   0.027525\n",
       "266.6647_237.5411                                   0.027417\n",
       "356.1038_232.4590                                   0.027411\n",
       "920.3790_328.8289                                   0.027253\n",
       "289.6898_265.8238                                   0.027252\n",
       "166.0973_821.0212                                   0.026968\n",
       "\n",
       "[234 rows x 1 columns]"
      ]
     },
     "execution_count": 47,
     "metadata": {},
     "output_type": "execute_result"
    }
   ],
   "source": [
    "num.sort_values(by='PLS1', ascending=False)"
   ]
  },
  {
   "cell_type": "code",
   "execution_count": 48,
   "metadata": {},
   "outputs": [
    {
     "data": {
      "text/html": [
       "<div>\n",
       "<style>\n",
       "    .dataframe thead tr:only-child th {\n",
       "        text-align: right;\n",
       "    }\n",
       "\n",
       "    .dataframe thead th {\n",
       "        text-align: left;\n",
       "    }\n",
       "\n",
       "    .dataframe tbody tr th {\n",
       "        vertical-align: top;\n",
       "    }\n",
       "</style>\n",
       "<table border=\"1\" class=\"dataframe\">\n",
       "  <thead>\n",
       "    <tr style=\"text-align: right;\">\n",
       "      <th></th>\n",
       "      <th>PLS1</th>\n",
       "    </tr>\n",
       "  </thead>\n",
       "  <tbody>\n",
       "    <tr>\n",
       "      <th>695.3653_294.0873</th>\n",
       "      <td>-0.072336</td>\n",
       "    </tr>\n",
       "    <tr>\n",
       "      <th>579.1825_275.8646</th>\n",
       "      <td>-0.069676</td>\n",
       "    </tr>\n",
       "    <tr>\n",
       "      <th>1059.4608_382.5322</th>\n",
       "      <td>-0.062642</td>\n",
       "    </tr>\n",
       "    <tr>\n",
       "      <th>103.0546_ 70.0223</th>\n",
       "      <td>-0.062031</td>\n",
       "    </tr>\n",
       "    <tr>\n",
       "      <th>166.5085_ 69.9654</th>\n",
       "      <td>-0.061169</td>\n",
       "    </tr>\n",
       "    <tr>\n",
       "      <th>1059.2015_380.8330</th>\n",
       "      <td>-0.058352</td>\n",
       "    </tr>\n",
       "    <tr>\n",
       "      <th>1058.9507_380.8708</th>\n",
       "      <td>-0.058280</td>\n",
       "    </tr>\n",
       "    <tr>\n",
       "      <th>887.2637_311.3506</th>\n",
       "      <td>-0.058255</td>\n",
       "    </tr>\n",
       "    <tr>\n",
       "      <th>1058.6991_380.8330</th>\n",
       "      <td>-0.058081</td>\n",
       "    </tr>\n",
       "    <tr>\n",
       "      <th>1073.4560_375.4202</th>\n",
       "      <td>-0.057965</td>\n",
       "    </tr>\n",
       "    <tr>\n",
       "      <th>1073.7061_375.4566</th>\n",
       "      <td>-0.057962</td>\n",
       "    </tr>\n",
       "    <tr>\n",
       "      <th>903.2849_301.7188</th>\n",
       "      <td>-0.057520</td>\n",
       "    </tr>\n",
       "    <tr>\n",
       "      <th>741.2286_243.5841</th>\n",
       "      <td>-0.057385</td>\n",
       "    </tr>\n",
       "    <tr>\n",
       "      <th>167.0894_ 63.3370</th>\n",
       "      <td>-0.057318</td>\n",
       "    </tr>\n",
       "    <tr>\n",
       "      <th>289.0862_270.3776</th>\n",
       "      <td>-0.056550</td>\n",
       "    </tr>\n",
       "    <tr>\n",
       "      <th>1073.2061_375.4767</th>\n",
       "      <td>-0.054302</td>\n",
       "    </tr>\n",
       "    <tr>\n",
       "      <th>693.3478_295.8689</th>\n",
       "      <td>-0.051756</td>\n",
       "    </tr>\n",
       "    <tr>\n",
       "      <th>831.1096_334.5118</th>\n",
       "      <td>-0.051087</td>\n",
       "    </tr>\n",
       "    <tr>\n",
       "      <th>725.2035_318.0543</th>\n",
       "      <td>-0.049668</td>\n",
       "    </tr>\n",
       "    <tr>\n",
       "      <th>922.2938_305.4544</th>\n",
       "      <td>-0.048982</td>\n",
       "    </tr>\n",
       "    <tr>\n",
       "      <th>855.9499_324.7384</th>\n",
       "      <td>-0.048978</td>\n",
       "    </tr>\n",
       "    <tr>\n",
       "      <th>1069.9193_332.9949</th>\n",
       "      <td>-0.048073</td>\n",
       "    </tr>\n",
       "    <tr>\n",
       "      <th>830.7424_329.4292</th>\n",
       "      <td>-0.046790</td>\n",
       "    </tr>\n",
       "    <tr>\n",
       "      <th>149.0635_ 71.3135</th>\n",
       "      <td>-0.046748</td>\n",
       "    </tr>\n",
       "    <tr>\n",
       "      <th>830.3123_327.3417</th>\n",
       "      <td>-0.045849</td>\n",
       "    </tr>\n",
       "    <tr>\n",
       "      <th>905.2724_305.6780</th>\n",
       "      <td>-0.044266</td>\n",
       "    </tr>\n",
       "    <tr>\n",
       "      <th>1072.9575_375.3988</th>\n",
       "      <td>-0.044140</td>\n",
       "    </tr>\n",
       "    <tr>\n",
       "      <th>403.2237_273.8596</th>\n",
       "      <td>-0.042930</td>\n",
       "    </tr>\n",
       "    <tr>\n",
       "      <th>332.1816_207.4027</th>\n",
       "      <td>-0.042755</td>\n",
       "    </tr>\n",
       "    <tr>\n",
       "      <th>380.0156_257.8880</th>\n",
       "      <td>-0.042325</td>\n",
       "    </tr>\n",
       "    <tr>\n",
       "      <th>...</th>\n",
       "      <td>...</td>\n",
       "    </tr>\n",
       "    <tr>\n",
       "      <th>822.4595_374.6509</th>\n",
       "      <td>-0.030920</td>\n",
       "    </tr>\n",
       "    <tr>\n",
       "      <th>463.2100_279.3306</th>\n",
       "      <td>-0.030919</td>\n",
       "    </tr>\n",
       "    <tr>\n",
       "      <th>347.1866_242.3154</th>\n",
       "      <td>-0.030915</td>\n",
       "    </tr>\n",
       "    <tr>\n",
       "      <th>310.4049_215.9682</th>\n",
       "      <td>-0.030811</td>\n",
       "    </tr>\n",
       "    <tr>\n",
       "      <th>451.2435_266.1334</th>\n",
       "      <td>-0.030699</td>\n",
       "    </tr>\n",
       "    <tr>\n",
       "      <th>221.0932_ 92.9275</th>\n",
       "      <td>-0.030656</td>\n",
       "    </tr>\n",
       "    <tr>\n",
       "      <th>485.9273_291.7028</th>\n",
       "      <td>-0.030481</td>\n",
       "    </tr>\n",
       "    <tr>\n",
       "      <th>1071.4752_391.8670</th>\n",
       "      <td>-0.030352</td>\n",
       "    </tr>\n",
       "    <tr>\n",
       "      <th>1079.1929_369.6904</th>\n",
       "      <td>-0.030350</td>\n",
       "    </tr>\n",
       "    <tr>\n",
       "      <th>1412.2657_380.9759</th>\n",
       "      <td>-0.030161</td>\n",
       "    </tr>\n",
       "    <tr>\n",
       "      <th>645.3411_333.5523</th>\n",
       "      <td>-0.030155</td>\n",
       "    </tr>\n",
       "    <tr>\n",
       "      <th>404.2106_165.5835</th>\n",
       "      <td>-0.030089</td>\n",
       "    </tr>\n",
       "    <tr>\n",
       "      <th>413.5863_222.7793</th>\n",
       "      <td>-0.030067</td>\n",
       "    </tr>\n",
       "    <tr>\n",
       "      <th>431.2395_290.2423</th>\n",
       "      <td>-0.030040</td>\n",
       "    </tr>\n",
       "    <tr>\n",
       "      <th>649.3252_288.2789</th>\n",
       "      <td>-0.029542</td>\n",
       "    </tr>\n",
       "    <tr>\n",
       "      <th>1072.4772_391.0404</th>\n",
       "      <td>-0.029515</td>\n",
       "    </tr>\n",
       "    <tr>\n",
       "      <th>166.0861_280.9578</th>\n",
       "      <td>-0.029492</td>\n",
       "    </tr>\n",
       "    <tr>\n",
       "      <th>695.8581_306.2870</th>\n",
       "      <td>-0.029339</td>\n",
       "    </tr>\n",
       "    <tr>\n",
       "      <th>1086.2432_388.9186</th>\n",
       "      <td>-0.029157</td>\n",
       "    </tr>\n",
       "    <tr>\n",
       "      <th>1080.4991_377.6088</th>\n",
       "      <td>-0.029016</td>\n",
       "    </tr>\n",
       "    <tr>\n",
       "      <th>1080.7071_392.5101</th>\n",
       "      <td>-0.028770</td>\n",
       "    </tr>\n",
       "    <tr>\n",
       "      <th>264.1399_239.3585</th>\n",
       "      <td>-0.028744</td>\n",
       "    </tr>\n",
       "    <tr>\n",
       "      <th>450.2253_272.8580</th>\n",
       "      <td>-0.028731</td>\n",
       "    </tr>\n",
       "    <tr>\n",
       "      <th>759.2332_252.4016</th>\n",
       "      <td>-0.028705</td>\n",
       "    </tr>\n",
       "    <tr>\n",
       "      <th>1037.6722_327.6620</th>\n",
       "      <td>-0.028433</td>\n",
       "    </tr>\n",
       "    <tr>\n",
       "      <th>131.0530_ 27.1776</th>\n",
       "      <td>-0.028383</td>\n",
       "    </tr>\n",
       "    <tr>\n",
       "      <th>532.2854_285.4626</th>\n",
       "      <td>-0.028270</td>\n",
       "    </tr>\n",
       "    <tr>\n",
       "      <th>478.2538_317.5681</th>\n",
       "      <td>-0.028203</td>\n",
       "    </tr>\n",
       "    <tr>\n",
       "      <th>431.2480_248.1881</th>\n",
       "      <td>-0.028197</td>\n",
       "    </tr>\n",
       "    <tr>\n",
       "      <th>500.2946_284.9873</th>\n",
       "      <td>-0.028033</td>\n",
       "    </tr>\n",
       "  </tbody>\n",
       "</table>\n",
       "<p>112 rows × 1 columns</p>\n",
       "</div>"
      ],
      "text/plain": [
       "                        PLS1\n",
       "695.3653_294.0873  -0.072336\n",
       "579.1825_275.8646  -0.069676\n",
       "1059.4608_382.5322 -0.062642\n",
       "103.0546_ 70.0223  -0.062031\n",
       "166.5085_ 69.9654  -0.061169\n",
       "1059.2015_380.8330 -0.058352\n",
       "1058.9507_380.8708 -0.058280\n",
       "887.2637_311.3506  -0.058255\n",
       "1058.6991_380.8330 -0.058081\n",
       "1073.4560_375.4202 -0.057965\n",
       "1073.7061_375.4566 -0.057962\n",
       "903.2849_301.7188  -0.057520\n",
       "741.2286_243.5841  -0.057385\n",
       "167.0894_ 63.3370  -0.057318\n",
       "289.0862_270.3776  -0.056550\n",
       "1073.2061_375.4767 -0.054302\n",
       "693.3478_295.8689  -0.051756\n",
       "831.1096_334.5118  -0.051087\n",
       "725.2035_318.0543  -0.049668\n",
       "922.2938_305.4544  -0.048982\n",
       "855.9499_324.7384  -0.048978\n",
       "1069.9193_332.9949 -0.048073\n",
       "830.7424_329.4292  -0.046790\n",
       "149.0635_ 71.3135  -0.046748\n",
       "830.3123_327.3417  -0.045849\n",
       "905.2724_305.6780  -0.044266\n",
       "1072.9575_375.3988 -0.044140\n",
       "403.2237_273.8596  -0.042930\n",
       "332.1816_207.4027  -0.042755\n",
       "380.0156_257.8880  -0.042325\n",
       "...                      ...\n",
       "822.4595_374.6509  -0.030920\n",
       "463.2100_279.3306  -0.030919\n",
       "347.1866_242.3154  -0.030915\n",
       "310.4049_215.9682  -0.030811\n",
       "451.2435_266.1334  -0.030699\n",
       "221.0932_ 92.9275  -0.030656\n",
       "485.9273_291.7028  -0.030481\n",
       "1071.4752_391.8670 -0.030352\n",
       "1079.1929_369.6904 -0.030350\n",
       "1412.2657_380.9759 -0.030161\n",
       "645.3411_333.5523  -0.030155\n",
       "404.2106_165.5835  -0.030089\n",
       "413.5863_222.7793  -0.030067\n",
       "431.2395_290.2423  -0.030040\n",
       "649.3252_288.2789  -0.029542\n",
       "1072.4772_391.0404 -0.029515\n",
       "166.0861_280.9578  -0.029492\n",
       "695.8581_306.2870  -0.029339\n",
       "1086.2432_388.9186 -0.029157\n",
       "1080.4991_377.6088 -0.029016\n",
       "1080.7071_392.5101 -0.028770\n",
       "264.1399_239.3585  -0.028744\n",
       "450.2253_272.8580  -0.028731\n",
       "759.2332_252.4016  -0.028705\n",
       "1037.6722_327.6620 -0.028433\n",
       "131.0530_ 27.1776  -0.028383\n",
       "532.2854_285.4626  -0.028270\n",
       "478.2538_317.5681  -0.028203\n",
       "431.2480_248.1881  -0.028197\n",
       "500.2946_284.9873  -0.028033\n",
       "\n",
       "[112 rows x 1 columns]"
      ]
     },
     "execution_count": 48,
     "metadata": {},
     "output_type": "execute_result"
    }
   ],
   "source": [
    "denom.sort_values(by='PLS1')"
   ]
  },
  {
   "cell_type": "code",
   "execution_count": 49,
   "metadata": {
    "collapsed": true
   },
   "outputs": [],
   "source": [
    "cats = pd.Series(c1, index=metadata.index)"
   ]
  },
  {
   "cell_type": "code",
   "execution_count": 78,
   "metadata": {},
   "outputs": [
    {
     "data": {
      "text/html": [
       "<div>\n",
       "<style>\n",
       "    .dataframe thead tr:only-child th {\n",
       "        text-align: right;\n",
       "    }\n",
       "\n",
       "    .dataframe thead th {\n",
       "        text-align: left;\n",
       "    }\n",
       "\n",
       "    .dataframe tbody tr th {\n",
       "        vertical-align: top;\n",
       "    }\n",
       "</style>\n",
       "<table border=\"1\" class=\"dataframe\">\n",
       "  <thead>\n",
       "    <tr style=\"text-align: right;\">\n",
       "      <th></th>\n",
       "      <th>Q2</th>\n",
       "      <th>AUROC</th>\n",
       "    </tr>\n",
       "  </thead>\n",
       "  <tbody>\n",
       "    <tr>\n",
       "      <th>0</th>\n",
       "      <td>-85.3958</td>\n",
       "      <td>1</td>\n",
       "    </tr>\n",
       "    <tr>\n",
       "      <th>1</th>\n",
       "      <td>-57.2326</td>\n",
       "      <td>1</td>\n",
       "    </tr>\n",
       "    <tr>\n",
       "      <th>2</th>\n",
       "      <td>-139.243</td>\n",
       "      <td>0.971429</td>\n",
       "    </tr>\n",
       "    <tr>\n",
       "      <th>3</th>\n",
       "      <td>-87.3947</td>\n",
       "      <td>0.976471</td>\n",
       "    </tr>\n",
       "  </tbody>\n",
       "</table>\n",
       "</div>"
      ],
      "text/plain": [
       "        Q2     AUROC\n",
       "0 -85.3958         1\n",
       "1 -57.2326         1\n",
       "2 -139.243  0.971429\n",
       "3 -87.3947  0.976471"
      ]
     },
     "execution_count": 78,
     "metadata": {},
     "output_type": "execute_result"
    }
   ],
   "source": [
    "res = balance_classify(table, cats, num_folds=4, \n",
    "                       means_init=np.array([[-0.05], [0], [0.05]]) )\n",
    "num, denom, rad_balance, cv = res\n",
    "cv"
   ]
  },
  {
   "cell_type": "code",
   "execution_count": 79,
   "metadata": {},
   "outputs": [
    {
     "data": {
      "text/plain": [
       "0.98697478991596643"
      ]
     },
     "execution_count": 79,
     "metadata": {},
     "output_type": "execute_result"
    }
   ],
   "source": [
    "cv['AUROC'].mean()"
   ]
  },
  {
   "cell_type": "code",
   "execution_count": 80,
   "metadata": {
    "collapsed": true
   },
   "outputs": [],
   "source": [
    "num = num.sort_values(by='PLS1', ascending=False)\n",
    "denom = denom.sort_values(by='PLS1', ascending=True)"
   ]
  },
  {
   "cell_type": "code",
   "execution_count": 81,
   "metadata": {},
   "outputs": [
    {
     "data": {
      "text/html": [
       "<div>\n",
       "<style>\n",
       "    .dataframe thead tr:only-child th {\n",
       "        text-align: right;\n",
       "    }\n",
       "\n",
       "    .dataframe thead th {\n",
       "        text-align: left;\n",
       "    }\n",
       "\n",
       "    .dataframe tbody tr th {\n",
       "        vertical-align: top;\n",
       "    }\n",
       "</style>\n",
       "<table border=\"1\" class=\"dataframe\">\n",
       "  <thead>\n",
       "    <tr style=\"text-align: right;\">\n",
       "      <th></th>\n",
       "      <th>PLS1</th>\n",
       "    </tr>\n",
       "  </thead>\n",
       "  <tbody>\n",
       "    <tr>\n",
       "      <th>Anthocyanin [M+]|Coumaroylated Anthocyanidin Gloucoside|3-(Coum-Rha-Glc)-5-Glc-Petunidin_r26</th>\n",
       "      <td>0.103298</td>\n",
       "    </tr>\n",
       "    <tr>\n",
       "      <th>641.1832_296.5703</th>\n",
       "      <td>0.097464</td>\n",
       "    </tr>\n",
       "    <tr>\n",
       "      <th>965.2932_307.6715</th>\n",
       "      <td>0.097424</td>\n",
       "    </tr>\n",
       "    <tr>\n",
       "      <th>951.2860_296.8252</th>\n",
       "      <td>0.095455</td>\n",
       "    </tr>\n",
       "    <tr>\n",
       "      <th>963.3027_303.5607</th>\n",
       "      <td>0.095385</td>\n",
       "    </tr>\n",
       "  </tbody>\n",
       "</table>\n",
       "</div>"
      ],
      "text/plain": [
       "                                                        PLS1\n",
       "Anthocyanin [M+]|Coumaroylated Anthocyanidin Gl...  0.103298\n",
       "641.1832_296.5703                                   0.097464\n",
       "965.2932_307.6715                                   0.097424\n",
       "951.2860_296.8252                                   0.095455\n",
       "963.3027_303.5607                                   0.095385"
      ]
     },
     "execution_count": 81,
     "metadata": {},
     "output_type": "execute_result"
    }
   ],
   "source": [
    "num.head()"
   ]
  },
  {
   "cell_type": "code",
   "execution_count": 82,
   "metadata": {},
   "outputs": [
    {
     "data": {
      "text/html": [
       "<div>\n",
       "<style>\n",
       "    .dataframe thead tr:only-child th {\n",
       "        text-align: right;\n",
       "    }\n",
       "\n",
       "    .dataframe thead th {\n",
       "        text-align: left;\n",
       "    }\n",
       "\n",
       "    .dataframe tbody tr th {\n",
       "        vertical-align: top;\n",
       "    }\n",
       "</style>\n",
       "<table border=\"1\" class=\"dataframe\">\n",
       "  <thead>\n",
       "    <tr style=\"text-align: right;\">\n",
       "      <th></th>\n",
       "      <th>PLS1</th>\n",
       "    </tr>\n",
       "  </thead>\n",
       "  <tbody>\n",
       "    <tr>\n",
       "      <th>120.0815_ 71.2084</th>\n",
       "      <td>-0.063652</td>\n",
       "    </tr>\n",
       "    <tr>\n",
       "      <th>149.0635_ 71.3135</th>\n",
       "      <td>-0.063368</td>\n",
       "    </tr>\n",
       "    <tr>\n",
       "      <th>103.0546_ 70.0223</th>\n",
       "      <td>-0.063160</td>\n",
       "    </tr>\n",
       "    <tr>\n",
       "      <th>166.5085_ 69.9654</th>\n",
       "      <td>-0.061212</td>\n",
       "    </tr>\n",
       "    <tr>\n",
       "      <th>695.3653_294.0873</th>\n",
       "      <td>-0.057556</td>\n",
       "    </tr>\n",
       "  </tbody>\n",
       "</table>\n",
       "</div>"
      ],
      "text/plain": [
       "                       PLS1\n",
       "120.0815_ 71.2084 -0.063652\n",
       "149.0635_ 71.3135 -0.063368\n",
       "103.0546_ 70.0223 -0.063160\n",
       "166.5085_ 69.9654 -0.061212\n",
       "695.3653_294.0873 -0.057556"
      ]
     },
     "execution_count": 82,
     "metadata": {},
     "output_type": "execute_result"
    }
   ],
   "source": [
    "denom.head()"
   ]
  },
  {
   "cell_type": "code",
   "execution_count": 89,
   "metadata": {},
   "outputs": [
    {
     "data": {
      "image/png": "[encoded data removed]",
      "text/plain": [
       "<matplotlib.figure.Figure at 0x127f81860>"
      ]
     },
     "metadata": {},
     "output_type": "display_data"
    }
   ],
   "source": [
    "fig, ax = plt.subplots(figsize=(5, 5))\n",
    "sns.distplot(rad_balance[c1], \n",
    "             label='Purple', color=ch_color, bins=7, ax=ax)\n",
    "sns.distplot(rad_balance[c2], \n",
    "             label='White+Red', color=cl_kl_color, bins=7, ax=ax)\n",
    "ax.legend() \n",
    "ax.set_ylabel('Proportion of Samples')\n",
    "ax.set_xlabel('PLS1')\n",
    "plt.savefig('results/Purple_White+Red_histogram.pdf')"
   ]
  },
  {
   "cell_type": "code",
   "execution_count": 84,
   "metadata": {},
   "outputs": [
    {
     "data": {
      "image/png": "[encoded data removed]",
      "text/plain": [
       "<matplotlib.figure.Figure at 0x127d5ebe0>"
      ]
     },
     "metadata": {},
     "output_type": "display_data"
    }
   ],
   "source": [
    "from sklearn.metrics import roc_curve\n",
    "ch_fpr, ch_tpr, ch_thresholds = roc_curve(y_true=1-cats.astype(int), \n",
    "                                          y_score=rad_balance)\n",
    "\n",
    "plt.plot(ch_tpr, ch_fpr, label='Purple', c=ch_color)\n",
    "plt.plot(np.linspace(0, 1), np.linspace(0, 1), c='k')\n",
    "plt.xlabel('True Positive Rate')\n",
    "plt.ylabel('False Positive Rate')\n",
    "plt.legend(loc=4)\n",
    "plt.savefig('purple_roc_curve.pdf')"
   ]
  },
  {
   "cell_type": "code",
   "execution_count": 85,
   "metadata": {},
   "outputs": [
    {
     "name": "stdout",
     "output_type": "stream",
     "text": [
      "Purple AUC:\t\t 0.959490740741\n"
     ]
    }
   ],
   "source": [
    "from sklearn.metrics import auc\n",
    "print('Purple AUC:\\t\\t', auc(ch_tpr, ch_fpr))"
   ]
  },
  {
   "cell_type": "code",
   "execution_count": 86,
   "metadata": {},
   "outputs": [
    {
     "name": "stdout",
     "output_type": "stream",
     "text": [
      "Purple \t -- F-statistic: 190.647188 \t p-value: \t 1.970325E-25\n"
     ]
    }
   ],
   "source": [
    "from scipy.stats import f_oneway\n",
    "ch_f, ch_p = f_oneway(rad_balance.loc[c1],\n",
    "                      rad_balance.loc[c2])\n",
    "print('Purple \\t -- F-statistic: %f \\t p-value: \\t %E' % (ch_f, ch_p))"
   ]
  },
  {
   "cell_type": "code",
   "execution_count": 87,
   "metadata": {
    "collapsed": true
   },
   "outputs": [],
   "source": [
    "writer = pd.ExcelWriter('./results/cultivar_color_stats.xlsx')\n",
    "\n",
    "stats = pd.Series([auc(ch_tpr, ch_fpr), cv['AUROC'].mean(), ch_f, ch_p],\n",
    "                  index=['AUC', 'AUC_CV', 'F-statistic', 'p-value'])\n",
    "\n",
    "x = cv['AUROC'].to_excel(writer, sheet_name='cv', index_label='folds')\n",
    "stats.to_excel(writer, sheet_name='summary', header=False)\n",
    "writer.save()"
   ]
  },
  {
   "cell_type": "markdown",
   "metadata": {},
   "source": [
    "the code snippet below isn't applicable to metabolomics data- commented out"
   ]
  },
  {
   "cell_type": "code",
   "execution_count": 59,
   "metadata": {
    "collapsed": true
   },
   "outputs": [],
   "source": [
    "# parse out taxonomies such that each level of the taxonomy has its own column\n",
    "# taxa_df = pd.DataFrame(taxa.Taxon.apply(lambda x: x.split(';')).values.tolist(),\n",
    "#                        columns=['kingdom', 'phylum', 'class', 'order', \n",
    "#                                 'family', 'genus', 'species'],\n",
    "#                        index=taxa.index)"
   ]
  },
  {
   "cell_type": "code",
   "execution_count": 60,
   "metadata": {
    "collapsed": true
   },
   "outputs": [],
   "source": [
    "# writer = pd.ExcelWriter('results/site_balance.xlsx')\n",
    "# num_taxa = pd.merge(num, taxa_df, left_index=True, right_index=True)\n",
    "# num_taxa.to_excel(writer, sheet_name='numerator')\n",
    "\n",
    "# num_taxa['phylum'].value_counts().to_excel(writer, sheet_name='numerator_phyla')\n",
    "# num_taxa['class'].value_counts().to_excel(writer, sheet_name='numerator_class')\n",
    "# num_taxa['order'].value_counts().to_excel(writer, sheet_name='numerator_order')\n",
    "# num_taxa['family'].value_counts().to_excel(writer, sheet_name='numerator_family')\n",
    "# num_taxa['genus'].value_counts().to_excel(writer, sheet_name='numerator_genus')\n",
    "# num_taxa['species'].value_counts().to_excel(writer, sheet_name='numerator_species')\n",
    "\n",
    "# denom_taxa = pd.merge(denom, taxa_df, left_index=True, right_index=True)\n",
    "# denom_taxa.to_excel(writer, sheet_name='denominator')\n",
    "\n",
    "# denom_taxa['phylum'].value_counts().to_excel(writer, sheet_name='denominator_phyla')\n",
    "# denom_taxa['class'].value_counts().to_excel(writer, sheet_name='denominator_class')\n",
    "# denom_taxa['order'].value_counts().to_excel(writer, sheet_name='denominator_order')\n",
    "# denom_taxa['family'].value_counts().to_excel(writer, sheet_name='denominator_family')\n",
    "# denom_taxa['genus'].value_counts().to_excel(writer, sheet_name='denominator_genus')\n",
    "# denom_taxa['species'].value_counts().to_excel(writer, sheet_name='denominator_species')\n",
    "\n",
    "# writer.save()"
   ]
  },
  {
   "cell_type": "code",
   "execution_count": 61,
   "metadata": {
    "collapsed": true
   },
   "outputs": [],
   "source": [
    "t = np.log(table.apply(lambda x: (x+1 / x+1).sum(), axis=1))"
   ]
  },
  {
   "cell_type": "code",
   "execution_count": 62,
   "metadata": {
    "collapsed": true
   },
   "outputs": [],
   "source": [
    "def collapse_f(x):\n",
    "    if x['cultivar_color'] == 'Purple':\n",
    "        return 'Purple'\n",
    "    else:\n",
    "        return 'White+Red'\n",
    "metadata['collapsed_treatment'] = metadata.apply(collapse_f, axis=1)"
   ]
  },
  {
   "cell_type": "raw",
   "metadata": {},
   "source": [
    "from gneiss.plot import proportion_plot\n",
    "import numpy as np\n",
    "fig, axes = plt.subplots(1, 2, figsize=(10, 8))\n",
    "_ = proportion_plot(\n",
    "    table=table+1, \n",
    "    metadata=metadata,\n",
    "    num_features=list(num.index[:10]), \n",
    "    denom_features=list(denom.index[:10]), \n",
    "    feature_metadata=taxa_df,\n",
    "    taxa_level='family',\n",
    "    category='collapsed_treatment',\n",
    "    # fix this\n",
    "    left_group='CH',\n",
    "    right_group='CL+KL', \n",
    "    denom_color=ch_color,\n",
    "    num_color=cl_kl_color,\n",
    "    axes=axes\n",
    ")\n",
    "fig.savefig('results/CH_vs_KL+CL_proportions.pdf')"
   ]
  },
  {
   "cell_type": "raw",
   "metadata": {},
   "source": [
    "from gneiss.plot import proportion_plot\n",
    "import numpy as np\n",
    "fig, axes = plt.subplots(1, 2, figsize=(10, 8))\n",
    "_ = proportion_plot(\n",
    "    table=table+1, \n",
    "    metadata=metadata,\n",
    "    num_features=list(num.index[:10]), \n",
    "    denom_features=list(denom.index[:10]), \n",
    "    feature_metadata=taxa_df,\n",
    "    taxa_level='family',\n",
    "    category='treatment',\n",
    "    # fix this\n",
    "    left_group='CH',\n",
    "    right_group='CL', \n",
    "    denom_color=ch_color,\n",
    "    num_color=cl_color,\n",
    "    axes=axes\n",
    ")\n",
    "fig.savefig('results/CH_vs_CL_proportions.pdf')"
   ]
  },
  {
   "cell_type": "raw",
   "metadata": {},
   "source": [
    "from gneiss.plot import proportion_plot\n",
    "import numpy as np\n",
    "fig, axes = plt.subplots(1, 2, figsize=(10, 8))\n",
    "_ = proportion_plot(\n",
    "    table=table+1, \n",
    "    metadata=metadata,\n",
    "    num_features=list(num.index[:10]), \n",
    "    denom_features=list(denom.index[:10]), \n",
    "    feature_metadata=taxa_df,\n",
    "    taxa_level='family',\n",
    "    category='treatment',\n",
    "    # fix this\n",
    "    left_group='CH',\n",
    "    right_group='KL', \n",
    "    denom_color=ch_color,\n",
    "    num_color=kl_color,\n",
    "    axes=axes\n",
    ")\n",
    "fig.savefig('results/CH_vs_KL_proportions.pdf')"
   ]
  },
  {
   "cell_type": "raw",
   "metadata": {},
   "source": [
    "from gneiss.plot import proportion_plot\n",
    "import numpy as np\n",
    "fig, axes = plt.subplots(1, 2, figsize=(10, 8))\n",
    "_ = proportion_plot(\n",
    "    table=table, \n",
    "    metadata=metadata,\n",
    "    num_features=list(num.index[:10]), \n",
    "    denom_features=list(denom.index[:10]), \n",
    "    feature_metadata=taxa_df,\n",
    "    taxa_level='genus',\n",
    "    category='treatment', \n",
    "    left_group='CH', \n",
    "    right_group='CL',\n",
    "    denom_color=ch_color,\n",
    "    num_color=cl_kl_color,\n",
    "    axes=axes\n",
    ")"
   ]
  },
  {
   "cell_type": "raw",
   "metadata": {},
   "source": [
    "from gneiss.plot import proportion_plot\n",
    "import numpy as np\n",
    "fig, axes = plt.subplots(1, 2, figsize=(10, 8))\n",
    "_ = proportion_plot(\n",
    "    table=table, \n",
    "    metadata=metadata,\n",
    "    num_features=list(num.index[:10]), \n",
    "    denom_features=list(denom.index[:10]), \n",
    "    feature_metadata=taxa_df,\n",
    "    taxa_level='order',\n",
    "    category='treatment', \n",
    "    left_group='CH', \n",
    "    right_group='CL',\n",
    "    denom_color=ch_color,\n",
    "    num_color=cl_kl_color,\n",
    "    axes=axes\n",
    ")"
   ]
  },
  {
   "cell_type": "markdown",
   "metadata": {},
   "source": [
    "# Regression"
   ]
  },
  {
   "cell_type": "markdown",
   "metadata": {},
   "source": [
    "not applicable to potato data as there aren't any continuos variables afaik"
   ]
  },
  {
   "cell_type": "code",
   "execution_count": 65,
   "metadata": {
    "collapsed": true
   },
   "outputs": [],
   "source": [
    "# from sklearn.mixture import GaussianMixture\n",
    "# from scipy.stats import norm\n",
    "# import numpy as np\n",
    "\n",
    "# fig, ax = plt.subplots(figsize=(5, 5))\n",
    "# rad_pls = PLSRegression(n_components=1)\n",
    "# rad_pls.fit(X=ctable.values, Y=metadata.loc_rad_log.values)\n",
    "\n",
    "# rad_spectrum = pd.DataFrame(rad_pls.x_weights_, index=ctable.columns, columns=['PLS1'])\n",
    "\n",
    "# rad_mixture = GaussianMixture(n_components=3, \n",
    "#                               means_init=np.array([[-0.05], [0], [0.05]]), \n",
    "#                               random_state=0)\n",
    "# rad_mixture.fit(X=rad_spectrum.values)\n",
    "\n",
    "# rad_m = np.ravel(rad_mixture.means_)\n",
    "# rad_s = np.ravel(np.sqrt(rad_mixture.covariances_)) \n",
    "# rad_w = np.ravel(rad_mixture.weights_)\n",
    "\n",
    "# x = np.linspace(-0.1, 0.1, 100)\n",
    "# sns.distplot(rad_spectrum, norm_hist=True, kde=False, ax=ax)\n",
    "# ax.plot(x, rad_w[0]*norm.pdf(x, rad_m[0], rad_s[0]), '-r')\n",
    "# ax.plot(x, rad_w[1]*norm.pdf(x, rad_m[1], rad_s[1]), '-g')\n",
    "# ax.plot(x, rad_w[2]*norm.pdf(x, rad_m[2], rad_s[2]), '-b')"
   ]
  },
  {
   "cell_type": "code",
   "execution_count": 66,
   "metadata": {
    "collapsed": true
   },
   "outputs": [],
   "source": [
    "# from sklearn.model_selection import StratifiedKFold, KFold\n",
    "# from scipy.stats import linregress\n",
    "\n",
    "# def balance_regression(table, cats, num_folds, **init_kwds):\n",
    "#     \"\"\"\n",
    "#     Builds a balance classifier. If categorical, it is assumed\n",
    "#     that the classes are binary.\n",
    "#     \"\"\"\n",
    "#     skf = KFold(n_splits=num_folds, shuffle=True)\n",
    "#     cats = cats * -1 # wtf??\n",
    "#     ctable = pd.DataFrame(clr(centralize(table+1)),\n",
    "#                           index=table.index, columns=table.columns)\n",
    "\n",
    "#     cv = pd.DataFrame(columns=['Q2'], index=np.arange(num_folds))\n",
    "#     for i, (train, test) in enumerate(skf.split(ctable.values, cats.values)):\n",
    "\n",
    "#         X_train, X_test = ctable.iloc[train], ctable.iloc[test]\n",
    "#         Y_train, Y_test = cats.iloc[train], cats.iloc[test]\n",
    "#         plsc = PLSRegression(n_components=1)\n",
    "#         plsc.fit(X=X_train, Y=Y_train)\n",
    "#         pls_df = pd.DataFrame(plsc.x_weights_, index=ctable.columns, columns=['PLS1'])\n",
    "\n",
    "#         l, r = round_balance(pls_df, **init_kwds)\n",
    "#         denom = pls_df.loc[pls_df.PLS1 < l]\n",
    "#         num = pls_df.loc[pls_df.PLS1 > r]\n",
    "\n",
    "#         idx = table.index[train]\n",
    "#         pls_balance = (np.log(table.loc[idx, num.index] + 1).mean(axis=1) -\n",
    "#                        np.log(table.loc[idx, denom.index] + 1).mean(axis=1))\n",
    "#         b_, int_, _, _, _ = linregress(pls_balance, Y_train)\n",
    "\n",
    "#         idx = table.index[test]\n",
    "#         pls_balance = (np.log(table.loc[idx, num.index] + 1).mean(axis=1) -\n",
    "#                        np.log(table.loc[idx, denom.index] + 1).mean(axis=1))\n",
    "#         pred = pls_balance * b_ + int_\n",
    "        \n",
    "#         press = ((pred - Y_test)**2).sum()\n",
    "#         tss = ((Y_test.mean() - Y_test)**2).sum()\n",
    "#         Q2 = 1 - (press / tss)\n",
    "\n",
    "#         cv.loc[i, 'Q2'] = Q2\n",
    "\n",
    "#     # build model on entire dataset\n",
    "#     plsc = PLSRegression(n_components=1)\n",
    "#     plsc.fit(X=table.values, Y=cats.values)\n",
    "#     pls_df = pd.DataFrame(plsc.x_weights_, index=ctable.columns, columns=['PLS1'])\n",
    "#     l, r = round_balance(pls_df, **init_kwds)\n",
    "#     denom = pls_df.loc[pls_df.PLS1 < l]\n",
    "#     num = pls_df.loc[pls_df.PLS1 > r]\n",
    "#     pls_balance = (np.log(table.loc[:, num.index] + 1).mean(axis=1) -\n",
    "#                    np.log(table.loc[:, denom.index] + 1).mean(axis=1))\n",
    "\n",
    "#     return num, denom, pls_balance, cv"
   ]
  },
  {
   "cell_type": "code",
   "execution_count": 67,
   "metadata": {
    "collapsed": true
   },
   "outputs": [],
   "source": [
    "# res = balance_regression(table, metadata.loc_rad_log, num_folds=4, \n",
    "#                          means_init=np.array([[-0.05], [0], [0.05]]) )\n",
    "# num, denom, rad_balance, cv = res"
   ]
  },
  {
   "cell_type": "code",
   "execution_count": 68,
   "metadata": {
    "collapsed": true
   },
   "outputs": [],
   "source": [
    "# writer = pd.ExcelWriter('results/radiation_balance.xlsx')\n",
    "\n",
    "# num_taxa = pd.merge(num, taxa_df, left_index=True, right_index=True)\n",
    "# num_taxa.to_excel(writer, sheet_name='numerator')\n",
    "\n",
    "# num_taxa['phylum'].value_counts().to_excel(writer, sheet_name='numerator_phyla')\n",
    "# num_taxa['class'].value_counts().to_excel(writer, sheet_name='numerator_class')\n",
    "# num_taxa['order'].value_counts().to_excel(writer, sheet_name='numerator_order')\n",
    "# num_taxa['family'].value_counts().to_excel(writer, sheet_name='numerator_family')\n",
    "# num_taxa['genus'].value_counts().to_excel(writer, sheet_name='numerator_genus')\n",
    "# num_taxa['species'].value_counts().to_excel(writer, sheet_name='numerator_species')\n",
    "\n",
    "# denom_taxa = pd.merge(denom, taxa_df, left_index=True, right_index=True)\n",
    "# denom_taxa.to_excel(writer, sheet_name='denominator')\n",
    "\n",
    "# denom_taxa['phylum'].value_counts().to_excel(writer, sheet_name='denominator_phyla')\n",
    "# denom_taxa['class'].value_counts().to_excel(writer, sheet_name='denominator_class')\n",
    "# denom_taxa['order'].value_counts().to_excel(writer, sheet_name='denominator_order')\n",
    "# denom_taxa['family'].value_counts().to_excel(writer, sheet_name='denominator_family')\n",
    "# denom_taxa['genus'].value_counts().to_excel(writer, sheet_name='denominator_genus')\n",
    "# denom_taxa['species'].value_counts().to_excel(writer, sheet_name='denominator_species')\n",
    "\n",
    "\n",
    "# writer.save()"
   ]
  },
  {
   "cell_type": "code",
   "execution_count": 69,
   "metadata": {
    "collapsed": true
   },
   "outputs": [],
   "source": [
    "# cv"
   ]
  },
  {
   "cell_type": "markdown",
   "metadata": {},
   "source": [
    "The Q2 values are analogous to R2 - it essentially measures prediction accuracy.  The close it is to 1, the better.\n",
    "Any Q2 values that are above zero are considered good."
   ]
  },
  {
   "cell_type": "code",
   "execution_count": 70,
   "metadata": {
    "collapsed": true
   },
   "outputs": [],
   "source": [
    "# cv.mean()"
   ]
  },
  {
   "cell_type": "raw",
   "metadata": {},
   "source": [
    "fig, ax = plt.subplots(figsize=(5, 5))\n",
    "idx_ch = (metadata.treatment == 'CH').values\n",
    "idx_cl = (metadata.treatment == 'CL').values\n",
    "idx_kl = (metadata.treatment == 'KL').values\n",
    "\n",
    "ax.scatter(metadata.loc_rad_log[idx_ch], rad_balance[idx_ch], label='CH', color=ch_color)\n",
    "ax.scatter(metadata.loc_rad_log[idx_cl], rad_balance[idx_cl], label='CL', color=cl_color)\n",
    "ax.scatter(metadata.loc_rad_log[idx_kl], rad_balance[idx_kl], label='KL', color=kl_color)\n",
    "\n",
    "ax.legend() \n",
    "ax.set_xlabel('loc_rad_log')\n",
    "ax.set_ylabel('rad_balance')"
   ]
  },
  {
   "cell_type": "raw",
   "metadata": {},
   "source": [
    "fig, ax = plt.subplots(figsize=(5, 5))\n",
    "idx_ch = (metadata.treatment == 'CH').values\n",
    "idx_cl = (metadata.treatment == 'CL').values\n",
    "idx_kl = (metadata.treatment == 'KL').values\n",
    "idx_cl_kl = np.logical_or(idx_cl, idx_kl)\n",
    "\n",
    "ax.scatter(metadata.loc_rad_log[idx_ch], rad_balance[idx_ch], label='CH', color=ch_color)\n",
    "ax.scatter(metadata.loc_rad_log[idx_cl_kl], rad_balance[idx_cl_kl], label='CL+KL', color=cl_kl_color)\n",
    "\n",
    "ax.legend() \n",
    "ax.set_xlabel('loc_rad_log')\n",
    "ax.set_ylabel('rad_balance')\n",
    "fig.savefig('results/radiation_regression.pdf')"
   ]
  },
  {
   "cell_type": "code",
   "execution_count": 71,
   "metadata": {
    "collapsed": true
   },
   "outputs": [],
   "source": [
    "# from scipy.stats import spearmanr, pearsonr\n",
    "# r, p = spearmanr(rad_balance, metadata.loc_rad_log)\n",
    "# print('CH \\t -- R^2: %f \\t p-value: \\t %E' % (r, p))\n",
    "# r, p = pearsonr(rad_balance, metadata.loc_rad_log)\n",
    "# print('CH \\t -- R^2: %f \\t p-value: \\t %E' % (r, p))"
   ]
  },
  {
   "cell_type": "code",
   "execution_count": 72,
   "metadata": {
    "collapsed": true
   },
   "outputs": [],
   "source": [
    "# writer = pd.ExcelWriter('results/radiation_stats.xlsx')\n",
    "\n",
    "# stats = pd.Series([cv['Q2'].mean(), r, p],\n",
    "#                   index=['Q2_CV', 'r', 'p'])\n",
    "# cv['Q2'].to_excel(writer, sheet_name='cv', index_label='folds')\n",
    "# stats.to_excel(writer, sheet_name='summary', header=False)\n",
    "# writer.save()"
   ]
  },
  {
   "cell_type": "code",
   "execution_count": 73,
   "metadata": {
    "collapsed": true
   },
   "outputs": [],
   "source": [
    "# def rename_radiation(x):\n",
    "#     if x['loc_rad_log'] > 0:\n",
    "#         return 'high radiation'\n",
    "#     else:\n",
    "#         return 'low radiation'\n",
    "\n",
    "# metadata['radiation_level'] = metadata.apply(rename_radiation, axis=1)\n",
    "# num = num.sort_values(by='PLS1', ascending=False)\n",
    "# denom = denom.sort_values(by='PLS1', ascending=True)"
   ]
  },
  {
   "cell_type": "code",
   "execution_count": 74,
   "metadata": {
    "collapsed": true
   },
   "outputs": [],
   "source": [
    "# num.head()"
   ]
  },
  {
   "cell_type": "code",
   "execution_count": 75,
   "metadata": {
    "collapsed": true
   },
   "outputs": [],
   "source": [
    "# denom.tail()"
   ]
  },
  {
   "cell_type": "raw",
   "metadata": {},
   "source": [
    "from gneiss.plot import proportion_plot\n",
    "import numpy as np\n",
    "fig, axes = plt.subplots(1, 2, figsize=(10, 8))\n",
    "_ = proportion_plot(\n",
    "    table=table, \n",
    "    metadata=metadata,\n",
    "    num_features=list(num.index[:10]), \n",
    "    denom_features=list(denom.index[:10]), \n",
    "    feature_metadata=taxa_df,\n",
    "    taxa_level='family',\n",
    "    category='radiation_level', \n",
    "    left_group='high radiation', \n",
    "    right_group='low radiation',\n",
    "    denom_color=ch_color,\n",
    "    num_color=cl_kl_color,\n",
    "    axes=axes\n",
    ")\n",
    "fig.savefig('results/radiation_proportions.pdf')"
   ]
  },
  {
   "cell_type": "code",
   "execution_count": 76,
   "metadata": {
    "collapsed": true
   },
   "outputs": [],
   "source": [
    "# num_taxa['family'].value_counts()"
   ]
  },
  {
   "cell_type": "code",
   "execution_count": 77,
   "metadata": {
    "collapsed": true
   },
   "outputs": [],
   "source": [
    "# denom_taxa['order'].value_counts()"
   ]
  }
 ],
 "metadata": {
  "kernelspec": {
   "display_name": "Python 3",
   "language": "python",
   "name": "python3"
  },
  "language_info": {
   "codemirror_mode": {
    "name": "ipython",
    "version": 3
   },
   "file_extension": ".py",
   "mimetype": "text/x-python",
   "name": "python",
   "nbconvert_exporter": "python",
   "pygments_lexer": "ipython3",
   "version": "3.5.3"
  }
 },
 "nbformat": 4,
 "nbformat_minor": 2
}
